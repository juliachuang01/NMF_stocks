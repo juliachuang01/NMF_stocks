{
 "cells": [
  {
   "cell_type": "markdown",
   "metadata": {},
   "source": [
    "\n",
    "\n",
    "# These are the 20 stocks in the Standard & Poor 500 whose weekly percentage gains and losses were within 1% point of each other for at least 8 months in 2019.\n",
    "\n"
   ]
  },
  {
   "cell_type": "markdown",
   "metadata": {},
   "source": [
    "![](Plots/Network_2019.png)"
   ]
  },
  {
   "cell_type": "markdown",
   "metadata": {},
   "source": [
    "_________"
   ]
  },
  {
   "cell_type": "markdown",
   "metadata": {},
   "source": [
    "# What components did NMF learn?"
   ]
  },
  {
   "cell_type": "markdown",
   "metadata": {},
   "source": [
    "![alt text](Plots/feature_archetypes.png)\n"
   ]
  },
  {
   "cell_type": "markdown",
   "metadata": {},
   "source": [
    "## Pepsico, in red, tracks closely with a set of regional utilities companies."
   ]
  },
  {
   "cell_type": "markdown",
   "metadata": {},
   "source": [
    "![alt text](Plots/Cluster_stocks_2018.png)"
   ]
  },
  {
   "cell_type": "markdown",
   "metadata": {},
   "source": [
    "------"
   ]
  },
  {
   "cell_type": "markdown",
   "metadata": {},
   "source": [
    "## Stocks have become increasingly volatile throughout the 1990s."
   ]
  },
  {
   "cell_type": "markdown",
   "metadata": {},
   "source": [
    "![alt text](Plots/Role_population.png)"
   ]
  },
  {
   "cell_type": "markdown",
   "metadata": {},
   "source": [
    "## Sectoral composition of volatile stocks has changed:"
   ]
  },
  {
   "cell_type": "markdown",
   "metadata": {},
   "source": [
    "In 1993             |  In 2004\n",
    ":-------------------------:|:-------------------------:\n",
    "![](Plots/Volatile_sectors_1993_new.png)  |  ![](Plots/Volatile_sectors_2004_new.png)"
   ]
  },
  {
   "cell_type": "markdown",
   "metadata": {},
   "source": [
    "## Next steps"
   ]
  },
  {
   "cell_type": "markdown",
   "metadata": {},
   "source": [
    "Predicting future links? Training a binary classifier on similarity scores between nodes to predict future pair-wise tracking."
   ]
  },
  {
   "cell_type": "markdown",
   "metadata": {},
   "source": [
    "-----"
   ]
  },
  {
   "cell_type": "markdown",
   "metadata": {},
   "source": [
    "## Appendix: more detailed methodology"
   ]
  },
  {
   "cell_type": "markdown",
   "metadata": {},
   "source": [
    "At each timestamp $t$, I construct a feature matrix $X^{(t)}\\in \\mathbb{R}^{D\\times N}$, where each row corresponds to a stock and each column to a feature.\n",
    "\n",
    "I decompose this into a basis matrix $U \\in \\mathbb{R}^{D\\times r}$ and a coefficient matrix $V \\in \\mathbb{R}^{r\\times N}$,\n",
    "\n",
    "where $r$ is the rank of the factorization and $X\\approx UV$.\n",
    "\n",
    "\n",
    "Given two matrices $U^{(t_1)}$ and $U^{(t_2)}$, I first construct an $r \\times r$ similarity matrix whose entry at the index $(i,j)$ is defined as the cosine similarity between $i^{th}$ column of $U^{(t_1)}$ and $j^{th}$ column of $U^{(t_2)}$.\n",
    "\n",
    "I match and average roles (or columns in matrix $U^{(t_1)}$) across all timestamps whose similarity score (computed using the Hungarian algorithm) exceeds 2.0.\n",
    "\n",
    "\n",
    "Using the averaged roles as $\\tilde{U}$, I then find a new $\\tilde{V}^{(t)}$ such that $X^{(t)} = \\tilde{U} \\tilde{V}^{(t)}$.  \n",
    "\n"
   ]
  },
  {
   "cell_type": "code",
   "execution_count": null,
   "metadata": {},
   "outputs": [],
   "source": []
  }
 ],
 "metadata": {
  "kernelspec": {
   "display_name": "Python 3",
   "language": "python",
   "name": "python3"
  },
  "language_info": {
   "codemirror_mode": {
    "name": "ipython",
    "version": 3
   },
   "file_extension": ".py",
   "mimetype": "text/x-python",
   "name": "python",
   "nbconvert_exporter": "python",
   "pygments_lexer": "ipython3",
   "version": "3.7.4"
  }
 },
 "nbformat": 4,
 "nbformat_minor": 2
}
